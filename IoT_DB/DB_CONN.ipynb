{
 "cells": [
  {
   "cell_type": "markdown",
   "id": "3b6401fa",
   "metadata": {},
   "source": [
    "### 서버\n",
    "- Hello World"
   ]
  },
  {
   "cell_type": "code",
   "execution_count": null,
   "id": "cfba40b9",
   "metadata": {
    "scrolled": false
   },
   "outputs": [],
   "source": [
    "from flask import Flask, request\n",
    "\n",
    "# app : Server실행, 경로를 잡아주는 객체\n",
    "app = Flask(__name__)\n",
    "\n",
    "@app.route('/')\n",
    "def index() :\n",
    "    return '<h1>Hello World</h1>'\n",
    "\n",
    "if __name__ == '__main__' :\n",
    "    app.run(host='192.168.70.70', port=2048)"
   ]
  },
  {
   "cell_type": "markdown",
   "id": "107f6d11",
   "metadata": {},
   "source": [
    "### 서버1\n",
    "- 방문객 IP 주소에 따라 출력되는 내용 바꿔주기"
   ]
  },
  {
   "cell_type": "code",
   "execution_count": null,
   "id": "e9c62fda",
   "metadata": {},
   "outputs": [],
   "source": [
    "ip_dic = {'192.168.0.38':'나예호', \n",
    "           '192.168.70.160':'이명기', \n",
    "           '192.168.70.163':'박인선', \n",
    "           '192.168.70.101':'양현석', \n",
    "           '192.168.70.228':'최윤규', \n",
    "           '192.168.70.35':'신인수',\n",
    "           '192.168.70.59':'김성민',\n",
    "           '192.168.70.94':'문지환',\n",
    "           '192.168.70.128':'김상민',\n",
    "           '192.168.70.18':'강화진',\n",
    "           '192.168.70.1':'최슬기',\n",
    "           '192.168.70.207':'김소현',\n",
    "           '192.168.70.100':'이호열',\n",
    "           '192.168.70.21':'박진우',\n",
    "           '192.168.70.70' : '강민주'\n",
    "          }"
   ]
  },
  {
   "cell_type": "code",
   "execution_count": null,
   "id": "a8f215b0",
   "metadata": {},
   "outputs": [],
   "source": [
    "from flask import Flask, request\n",
    "\n",
    "# app : Server실행, 경로를 잡아주는 객체\n",
    "app = Flask(__name__)\n",
    "\n",
    "@app.route('/')\n",
    "def index() :\n",
    "    \n",
    "    ip = request.remote_addr\n",
    "    \n",
    "    for ip_key in list(ip_dic.keys()) :\n",
    "        if ip == ip_key :\n",
    "            return f'<h1>{ip_dic[ip][1:]}씨 방가방가</h1>'\n",
    "    return '<h1>Hello World</h1>'\n",
    "\n",
    "if __name__ == '__main__' :\n",
    "    app.run(host='192.168.70.70', port=2050)"
   ]
  },
  {
   "cell_type": "markdown",
   "id": "50bccbf2",
   "metadata": {},
   "source": [
    "### 서버2\n",
    "- 내 도메인 주소로 서버 연결하기"
   ]
  },
  {
   "cell_type": "code",
   "execution_count": null,
   "id": "179b4083",
   "metadata": {
    "scrolled": false
   },
   "outputs": [],
   "source": [
    "from flask import Flask, redirect\n",
    "app = Flask(__name__)\n",
    "@app.route('/')\n",
    "def index():\n",
    "    url = 'http://kangminju.dothome.co.kr/'\n",
    "    return redirect(url)\n",
    "\n",
    "if __name__ == '__main__' :\n",
    "    app.run()"
   ]
  },
  {
   "cell_type": "markdown",
   "id": "0b8a17f8",
   "metadata": {},
   "source": [
    "### 서버3\n",
    "- 오라클 DB 데이터 조회하기"
   ]
  },
  {
   "cell_type": "markdown",
   "id": "c3ad9692",
   "metadata": {},
   "source": [
    "### Oracle - Python 연결 Lib 설치"
   ]
  },
  {
   "cell_type": "code",
   "execution_count": null,
   "id": "9593d36d",
   "metadata": {
    "scrolled": true
   },
   "outputs": [],
   "source": [
    "!pip install cx_oracle\n",
    "# 혹시나 안되면\n",
    "# !pip install cx_Oracle\n",
    "#로 설치하세요."
   ]
  },
  {
   "cell_type": "markdown",
   "id": "f32e9d2b",
   "metadata": {},
   "source": [
    "### Oracle Instant Clinent 설치\n",
    "- https://www.oracle.com/kr/database/technologies/instant-client/winx64-64-downloads.html"
   ]
  },
  {
   "cell_type": "code",
   "execution_count": null,
   "id": "0c2c7aad",
   "metadata": {},
   "outputs": [],
   "source": [
    "import os\n",
    "LOCATION = r\"C:\\Users\\AI\\GJAIschool\\IoT_DB\\instantclient-basic-windows.x64-21.6.0.0.0dbru\\instantclient_21_6\"\n",
    "# r 안붙이면 \\를 \\\\로 써야함\n",
    "os.environ[\"PATH\"] = LOCATION + ';' + os.environ['PATH']"
   ]
  },
  {
   "cell_type": "markdown",
   "id": "7ed8d7f5",
   "metadata": {},
   "source": [
    "# DB 연결\n",
    "\n",
    "<ol>\n",
    "    <li> Connection : 접속(통로)\n",
    "        <ul>\n",
    "            <li>cx_Oracle.connect(계정 아이디, 계정 비밀번호, 계정 주소)</li>\n",
    "        </ul>\n",
    "    <li> Cursor : sql문을 전달하는 역할\n",
    "        <ul>\n",
    "            <li>conn.cursor() : cursor  통로를 여는 역할\n",
    "                \n",
    "<img src=\"./lecture_img/cursor.jpg\" style=\"align:left; margin-left:10rem;width:30rem;height:auto;\">\n",
    "            </li>\n",
    "        </ul>\n",
    "    </li>\n",
    "<li> Execute : 실행</li>\n",
    "<li> Close : 종료(닫기) </li>\n",
    "    </ol>"
   ]
  },
  {
   "cell_type": "code",
   "execution_count": null,
   "id": "a65e73d9",
   "metadata": {},
   "outputs": [],
   "source": [
    "import cx_Oracle\n",
    "\n",
    "# Connection\n",
    "db_id = 'hr'\n",
    "db_pw = 'hr'\n",
    "\n",
    "# db_url = 'localhost'로 db_url을 설정해도 되지만\n",
    "# localhost를 IPv4로 변환시, 127.0.0.1  / IPv6로 변환시,::1 \n",
    "# 127.0.0.1로 IP주소를 직접적으로 명시할 시, \n",
    "# 다른 사람의 IP주소로 DB에 접속할 때, '여기에 다른사람의 IP주소를 쓰면 되는구나!'라고 인지하기 쉬워짐\n",
    "db_url = '127.0.0.1:1521/xe'  # IP주소:Port번호/SID\n",
    "conn = cx_Oracle.connect(db_id, db_pw, db_url)\n",
    "\n",
    "\n",
    "# 2. Cursor\n",
    "curs = conn.cursor()\n",
    "\n",
    "\n",
    "# 3. Execute : 실행\n",
    "sql = 'select last_name, salary from employees' # 맨 끝에 ;(세미콜론) 안써도 됨\n",
    "result = curs.execute(sql)\n",
    "print(result.fetchall())  # DB EMPLOYEES 테이블 조회 결과\n",
    "\n",
    "# 4. Close\n",
    "# 연결 통로를 닫을 때는 열었던 역순으로 닫는다.\n",
    "if curs != None :\n",
    "    curs.close() # cursor 통로 닫기\n",
    "if conn != None :\n",
    "    conn.close() # Connection 통로 닫기\n",
    "    \n",
    "    \n",
    "# 1,2,4번이 반복되므로 함수로 선언하자 >> 모듈화"
   ]
  },
  {
   "cell_type": "markdown",
   "id": "63cb0782",
   "metadata": {},
   "source": [
    "- 위의 DB 조회 결과\n",
    "    - 리스트형 : 리스트 안에 튜플형의 요소들이 들어가 있음 (성씨, 급여)\n",
    "    \n",
    "    \n",
    "- 서로 다른 형태의 변수를 한번에 저장하기 위해 사용하는 것! >> 클래스\n",
    "\n",
    "\n",
    "\n",
    "\n",
    "# VO(Value Object)\n",
    "- 사용자 정의 데이터 타입: 임의로 데이터를 저장하기 위해 만든 클래스나 객체"
   ]
  },
  {
   "cell_type": "code",
   "execution_count": null,
   "id": "cc8734b1",
   "metadata": {},
   "outputs": [],
   "source": [
    "# Python 점수를 저장하려고 함\n",
    "score = 100\n",
    "# score의 타입은???\n",
    "print(type(score))  # int\n",
    "\n",
    "# 이름을 저장하려고 함\n",
    "name = '강민주'\n",
    "\n",
    "print(type(name))  # str\n",
    "\n",
    "# 강민주의 Python 점수를 동시에 저장\n",
    "# class를 사용!!\n"
   ]
  },
  {
   "cell_type": "code",
   "execution_count": null,
   "id": "8ff626b7",
   "metadata": {},
   "outputs": [],
   "source": [
    "class Scores :\n",
    "    # 속성\n",
    "    name = ''\n",
    "    score = 0\n",
    "    \n",
    "    # 기능(메소드)\n",
    "    def print_info(self) :\n",
    "        print('이름 : {} / 점수 : {}'.format(self.name, self.score))"
   ]
  },
  {
   "cell_type": "code",
   "execution_count": null,
   "id": "74e3be11",
   "metadata": {},
   "outputs": [],
   "source": [
    "s1 = Scores()\n",
    "s1.name = '강민주'\n",
    "s1.score = 100\n",
    "\n",
    "#print(s1.name, s1.score)\n",
    "s1.print_info()"
   ]
  },
  {
   "cell_type": "markdown",
   "id": "036cfda3",
   "metadata": {},
   "source": [
    "# Design Pattern\n",
    "- 디자인 패턴을 사용하면,\n",
    "  디자인 패턴 종류만으로 어떤 기능을 위해 설계되었는지 인식하기 쉬움(이거는 이러한 디자인에 의해 설계된 코드구나!)\n",
    "\n",
    "### Refactoring - 리팩토링 : 어떤 수를 변수로 빼는 작업 / 반복되는 작업 : 반복문, 함수화 등\n",
    "- 리팩토링을 통해 효율적으로 클래스, 객체 생성\n",
    "- 리팩토링을 통해 코드를 사용하고 읽기 쉽게 만들 수 있다.\n",
    "\n",
    "\n",
    "##### 리팩토링으로 효율적으로 클래스나 객체를 생성하고 디자인 패턴에 따라 생성한 클래스와 객체를 정리함"
   ]
  },
  {
   "cell_type": "code",
   "execution_count": null,
   "id": "2ef6221d",
   "metadata": {},
   "outputs": [],
   "source": [
    "# 리팩토링\n",
    "print(3+5)\n",
    "print(3-5)\n",
    "print(3*5)\n",
    "print(3/5)\n",
    "\n",
    "# 3을 6으로 바꿔라~!\n",
    "# 반복되는 수, 자주 변경되는 수를 변수로 선언할 수 있다.\n",
    "num = 6 \n",
    "print(num+5)\n",
    "print(num-5)\n",
    "print(num*5)\n",
    "print(num/5)"
   ]
  },
  {
   "cell_type": "markdown",
   "id": "fc3206ea",
   "metadata": {},
   "source": [
    "## MVC모델 : Model, View, Controller\n",
    "   - Observer, 싱글톤, GoF 디자인 패턴 등이 있지만 가장 보편적, 가장 많이 사용하는 약속된 Design\n",
    "\n",
    "#### View : 사용자에게 보여주는 모든 서비스\n",
    "- 예시\n",
    "<img src=\"./lecture_img/view.jpg\" style=\"align:left; margin-left:10rem;width:50rem;height:auto;\">\n",
    "\n",
    "#### Model = DAO + DTO\n",
    "   - DTO(Data Transter Object) - 데이터 전송 객체 : 여러 타입의 데이터를 저장하기 위해 사용하는 클래스\n",
    "        - (데이터를 저장하는)DB에 정보를 저장할 때, 사용하는 객체                                  \n",
    "        - cf. 여러 이름이 있지만 MVL 모델에서는 DTO라고 부름\n",
    "   - DAO(Data Acces Object) : 데이터 접근하는 함수나 객체를 모아놓은 클래스\n",
    "   \n",
    "<img src=\"./lecture_img/model.png\" style=\"align:left; margin-left:10rem;width:50rem;height:auto;\">\n",
    "\n",
    "   \n",
    "#### Controller : View와 MOdel 사이의 기능(데이터 주고 받기, 관리 등)을 관리\n"
   ]
  },
  {
   "cell_type": "markdown",
   "id": "a2cada13",
   "metadata": {},
   "source": [
    "##### DAO"
   ]
  },
  {
   "cell_type": "code",
   "execution_count": 1,
   "id": "9b56ce52",
   "metadata": {},
   "outputs": [],
   "source": [
    "# DAO는 이미 있는 클래스라 파란색으로 표시됨\n",
    "# 이미 있는 클래스나 함수명은 파란색 글씨로 써짐\n",
    "import cx_Oracle\n",
    "import pandas as pd\n",
    "\n",
    "class DAO :\n",
    "    # conn_db 혹은 conn_DB이름 으로 접속 함수를 명명하자\n",
    "    def conn_db(self) :\n",
    "        \n",
    "        # 접속하기\n",
    "        db_id = 'hr'\n",
    "        db_pw = 'hr'\n",
    "        db_url = '127.0.0.1:1521/xe'\n",
    "        conn = cx_Oracle.connect(db_id, db_pw, db_url)\n",
    "        \n",
    "        curs = conn.cursor()\n",
    "        \n",
    "        return conn, curs\n",
    "    \n",
    "    \n",
    "    # 접속 종료하기\n",
    "    def close_db(self) :\n",
    "        try :\n",
    "            if curs != None :\n",
    "                curs.close() # cursor 통로 닫기\n",
    "        except :\n",
    "            pass\n",
    "        try :\n",
    "            if conn != None :\n",
    "                conn.close() # Connection 통로 닫기    \n",
    "        except :\n",
    "            pass\n",
    "        \n",
    "        \n",
    "    \n",
    "    # SELECT문 : 리스트형 조회 결과 반환\n",
    "    def select(self) :\n",
    "        conn, curs = self.conn_db()\n",
    "        \n",
    "        sql = '''select last_name, salary from employees'''\n",
    "        result = curs.execute(sql)\n",
    "        r = result.fetchall()\n",
    "        \n",
    "        # curs나 conn이 안열려 있는데 닫으려고 하면 Error남\n",
    "        # 조건문으로 curs나 conn이 연결되어 있을 때, 닫아주자!\n",
    "        self.close_db()\n",
    "       \n",
    "        return r\n",
    "    \n",
    "    # SELECT문 : DataFrame으로 조회 결과 반환\n",
    "    # result.fetchall() 없이 DB 조회 결과 읽는 방법\n",
    "    def select_df(self) :\n",
    "        conn, _ = self.conn_db()\n",
    "        \n",
    "        sql = '''select * from member'''\n",
    "        df = pd.read_sql(sql, conn)\n",
    "        \n",
    "        self.close_db()\n",
    "            \n",
    "        return df\n",
    "    \n",
    "    \n",
    "    # INSERT문 실행하기(고정 sql문)\n",
    "    def insert(self, join_id, join_pw, join_name) :\n",
    "        conn, curs = self.conn_db()\n",
    "        \n",
    "        # sql쿼리에 Insert value의 값으로 :1, :2, :3 을 넣자\n",
    "        # :1 은 알 수 없는 첫번째 값(미정된 1번 값)\n",
    "        # formatting을 할 수 있지만... :1은 다른 DB(mySQL, MariaDB)에서도 사용할 수 있는 방법임... \n",
    "        # 왜 이렇게 쓰는지는 정확히 안알려 주셨음\n",
    "        sql = \"\"\"insert into member (memid, id, pw, name) \n",
    "                 values (mem_memid_seq.nextval, :1, :2, :3)\"\"\"\n",
    "        \n",
    "        # 위에서 쓴 미정값은 execute(실행)에서 변수를 순서대로 입력해 주면 됨\n",
    "        try :\n",
    "            result = curs.execute(sql, (join_id, join_pw, join_name))\n",
    "            print('Data inserted')\n",
    "            \n",
    "            # DML언어를 실행한 후에 커밋을 해주지 않으면 다른 곳에서 DB 접속 불가!!\n",
    "            # 꼭 commit을 해주자!\n",
    "            conn.commit()\n",
    "            \n",
    "        except :\n",
    "            print('Insert statement fail')\n",
    "            \n",
    "        self.close_db()\n",
    "        \n",
    "        \n",
    "        \n",
    "    # 로그인 결과 확인하기(Select문)   \n",
    "    def login(self, login_id, login_pw) :\n",
    "        conn, curs = self.conn_db()\n",
    "        \n",
    "        sql = f\"\"\"select pw from member where id = '{login_id}'\"\"\"\n",
    "        result = curs.execute(sql)\n",
    "        data = result.fetchone()\n",
    "        print(data[0])\n",
    "            \n",
    "#         sql = '''select count(*) from member where id= :1 and pw= :2'''\n",
    "#         result = curs.execute(sql, (login_id, login_pw))\n",
    "#         # fetchall()은 리스트형 반환 / fetchone()은 값 하나 반환\n",
    "#         cnt = result.fetchone()\n",
    "\n",
    "        self.close_db()\n",
    "        \n",
    "#         return cnt[0]\n",
    "\n",
    "    # 아이디 중복 체크(Select문)   \n",
    "    def check(self, login_id) :\n",
    "        conn, curs = self.conn_db()\n",
    "        \n",
    "        sql = '''select count(*) from member where id= :1'''\n",
    "        result = curs.execute(sql, [login_id])\n",
    "#         result = curs.execute(sql, (login_id, ))\n",
    "\n",
    "        # fetchall()은 리스트형 반환 / fetchone()은 값 하나 반환\n",
    "        cnt = result.fetchone()\n",
    "        \n",
    "        self.close_db()\n",
    "        \n",
    "        return cnt[0]"
   ]
  },
  {
   "cell_type": "markdown",
   "id": "708f1963",
   "metadata": {},
   "source": [
    "- 파이썬은 인터프리터 언어\n",
    "- 클래스 안쪽에서는 첫번째 매개변수로 self를 써 주어야 함수 정의가 가능하다.\n",
    "### self를 왜 써주는 걸까?\n",
    "    - 클래스 안에서 정의한 함수와 클래스 밖에서 정의한 함수를 구분해 주기 위해 사용합니다.\n",
    "    \n",
    "    \n",
    "    - self를 쓰면, 컴퓨터가 한줄씩 올라가며 클래스명을 찾음 \n",
    "    - 클래스명을 발견하면, 이 함수가 이 클래스에서 정의된 함수라는 것을 확인"
   ]
  },
  {
   "cell_type": "markdown",
   "id": "9a002e6a",
   "metadata": {},
   "source": [
    "### EMPLOYEES 테이블의 성씨와 급여 조회하기"
   ]
  },
  {
   "cell_type": "code",
   "execution_count": null,
   "id": "829c2d54",
   "metadata": {
    "scrolled": true
   },
   "outputs": [],
   "source": [
    "# 조회결과 문자열로 출력하기\n",
    "dao = DAO()\n",
    "r = dao.select()\n",
    "\n",
    "\n",
    "for name, salary in r :\n",
    "    print('last_name : {} / salary : {}'.format(name, salary))"
   ]
  },
  {
   "cell_type": "code",
   "execution_count": null,
   "id": "96c18c70",
   "metadata": {
    "scrolled": true
   },
   "outputs": [],
   "source": [
    "# 조회결과 DataFrame으로 출력하기\n",
    "dao = DAO()\n",
    "print(dao.select_df('select last_name, salary from employees'))"
   ]
  },
  {
   "cell_type": "markdown",
   "id": "8ef1d802",
   "metadata": {},
   "source": [
    "### Grant 월급 조회하기"
   ]
  },
  {
   "cell_type": "code",
   "execution_count": null,
   "id": "debeadf6",
   "metadata": {
    "scrolled": true
   },
   "outputs": [],
   "source": [
    "# EMPLOYEES 테이블의 성씨와 급여 조회\n",
    "df = dao.select_df('select last_name, salary from employees')\n",
    "\n",
    "# DataFrame 불리언 인덱싱으로 Grant 월급만 출력\n",
    "print(df[df['LAST_NAME'] == 'Grant']['SALARY'])"
   ]
  },
  {
   "cell_type": "markdown",
   "id": "a8a0e284",
   "metadata": {},
   "source": [
    "### 급여가 10000이상인 성씨와 급여를 조회"
   ]
  },
  {
   "cell_type": "code",
   "execution_count": null,
   "id": "55bead04",
   "metadata": {
    "scrolled": true
   },
   "outputs": [],
   "source": [
    "# DataFrame 불리언 인덱싱으로 급여가 10000 이상인 튜플만 출력\n",
    "over_10000_byPy = df[df['SALARY'] >= 10000]\n",
    "print(over_10000_byPy)\n",
    "\n",
    "# sql문에서 where절 사용하여 10000이상인 성씨와 급여를 조회\n",
    "over_10000_bySQL = dao.select_df('select last_name, salary from employees where salary >= 10000')\n",
    "print(over_10000_bySQL)"
   ]
  },
  {
   "cell_type": "markdown",
   "id": "022cc295",
   "metadata": {},
   "source": [
    "### 서버에 DB 조회 결과 출력하기"
   ]
  },
  {
   "cell_type": "code",
   "execution_count": null,
   "id": "189dd652",
   "metadata": {
    "scrolled": false
   },
   "outputs": [],
   "source": [
    "from flask import Flask, redirect\n",
    "\n",
    "app = Flask(__name__)\n",
    "@app.route('/')\n",
    "def index():\n",
    "    dao = DAO()\n",
    "    r = dao.select()\n",
    "    \n",
    "    result = '</br>'.join(map(str, r))\n",
    "    \n",
    "    return result\n",
    "\n",
    "if __name__ == '__main__' :\n",
    "    app.run()"
   ]
  },
  {
   "cell_type": "markdown",
   "id": "60631be2",
   "metadata": {},
   "source": [
    "### 회원가입 테이블 만들기"
   ]
  },
  {
   "cell_type": "code",
   "execution_count": null,
   "id": "9b5c37bb",
   "metadata": {
    "scrolled": true
   },
   "outputs": [],
   "source": [
    "dao = DAO()\n",
    "df = dao.select_df()\n",
    "print(df)"
   ]
  },
  {
   "cell_type": "markdown",
   "id": "670fba17",
   "metadata": {},
   "source": [
    "- 회원 가입 >> 데이터 insert"
   ]
  },
  {
   "cell_type": "code",
   "execution_count": null,
   "id": "4309acf1",
   "metadata": {},
   "outputs": [],
   "source": [
    "dao = DAO()\n",
    "dao.insert()"
   ]
  },
  {
   "cell_type": "code",
   "execution_count": null,
   "id": "3f134140",
   "metadata": {},
   "outputs": [],
   "source": [
    "dao = DAO()\n",
    "dao.insert('kmj10', '9101', 'kangminju10')"
   ]
  },
  {
   "cell_type": "code",
   "execution_count": null,
   "id": "542e661d",
   "metadata": {},
   "outputs": [],
   "source": [
    "dao = DAO()\n",
    "sql = \"\"\"insert into member (memid, id, pw, name) \n",
    "                 values (mem_memid_seq.nextval, 'kmj6', '5678', 'kangminju6')\"\"\"\n",
    "dao.insert_bySQL(sql)"
   ]
  },
  {
   "cell_type": "code",
   "execution_count": null,
   "id": "47c90890",
   "metadata": {},
   "outputs": [],
   "source": [
    "dao = DAO()\n",
    "sql = \"\"\"insert into member (memid, id, pw, name) \n",
    "                 values (mem_memid_seq.nextval, :1, '5678', 'kangminju6')\"\"\"\n",
    "dao.insert_bySQL(sql)"
   ]
  },
  {
   "cell_type": "code",
   "execution_count": null,
   "id": "3c7eb1e8",
   "metadata": {},
   "outputs": [],
   "source": [
    "dao = DAO()\n",
    "dao.login('kmj2', '1234')"
   ]
  },
  {
   "cell_type": "markdown",
   "id": "3f9cde8b",
   "metadata": {},
   "source": [
    "### 로그인 서버 만들기\n",
    "\n",
    "<img src=\"./lecture_img/login_server.jpg\" style=\"align:left; margin-left:10rem;width:50rem;height:auto;\">"
   ]
  },
  {
   "cell_type": "code",
   "execution_count": null,
   "id": "43980a6c",
   "metadata": {},
   "outputs": [],
   "source": [
    "from flask import Flask, request\n",
    "app = Flask(__name__)\n",
    "@app.route('/')\n",
    "def index():\n",
    "    return '<h1>Hello World</h1>'\n",
    "@app.route('/login', methods=['GET', 'POST'])\n",
    "def login():\n",
    "    if request.method == 'POST':\n",
    "        login_id = request.form['login_id']\n",
    "        login_pw = request.form['login_pw']\n",
    "        print(login_id, login_pw)\n",
    "    return '로그인 페이지입니다'\n",
    "\n",
    "if __name__ == '__main__' :\n",
    "    app.run(host='192.168.70.148', port=2051)\n",
    "    # 변경한 코드가 적용이 안되면 port 번호를 바꿔보자/ html문서에도 변경된 코드를 적용시켜 주자"
   ]
  },
  {
   "cell_type": "code",
   "execution_count": null,
   "id": "5ce2348e",
   "metadata": {},
   "outputs": [],
   "source": [
    "from flask import Flask, request, redirect\n",
    "\n",
    "\n",
    "app = Flask(__name__)\n",
    "\n",
    "@app.route('/')\n",
    "def index():\n",
    "    return '<h1>Hello World</h1>'\n",
    "\n",
    "\n",
    "@app.route('/login', methods=['GET', 'POST'])\n",
    "def login():\n",
    "    if request.method == 'POST':\n",
    "        login_id = request.form['login_id']  # request.form['보내주는 key값']\n",
    "        login_pw = request.form['login_pw']\n",
    "    \n",
    "    dao = DAO()\n",
    "    cnt = dao.login(login_id, login_pw)\n",
    "   \n",
    "    \n",
    "    if cnt == 1 :\n",
    "        return '로그인 성공'\n",
    "    else :\n",
    "        return '로그인 실패'\n",
    "\n",
    "if __name__ == '__main__' :\n",
    "    app.run(host='192.168.70.148', port=2051)\n",
    "    # 변경한 코드가 적용이 안되면 port 번호를 바꿔보자/ html문서에도 변경된 코드를 적용시켜 주자"
   ]
  },
  {
   "cell_type": "code",
   "execution_count": null,
   "id": "382a2180",
   "metadata": {},
   "outputs": [
    {
     "name": "stdout",
     "output_type": "stream",
     "text": [
      " * Serving Flask app '__main__'\n",
      " * Debug mode: off\n"
     ]
    },
    {
     "name": "stderr",
     "output_type": "stream",
     "text": [
      "WARNING: This is a development server. Do not use it in a production deployment. Use a production WSGI server instead.\n",
      " * Running on http://127.0.0.1:5500\n",
      "Press CTRL+C to quit\n",
      "127.0.0.1 - - [02/Oct/2022 21:00:57] \"GET / HTTP/1.1\" 200 -\n",
      "127.0.0.1 - - [02/Oct/2022 21:01:03] \"GET /profile/fail.html HTTP/1.1\" 404 -\n"
     ]
    }
   ],
   "source": [
    "from flask import Flask, request, Response, redirect, render_template\n",
    "\n",
    "\n",
    "app = Flask(__name__)\n",
    "\n",
    "@app.route('/')\n",
    "def index():\n",
    "    return '<h1>Hello World</h1>'\n",
    "\n",
    "@app.route('/join', methods=['POST'])\n",
    "def join() :\n",
    "    \n",
    "    if request.method == 'POST' :\n",
    "        join_id = request.form['join_id']\n",
    "        join_pw = request.form['join_pw']\n",
    "        join_name = request.form['join_name']\n",
    "        print(join_id, join_pw, join_name)\n",
    "        \n",
    "        dao = DAO()\n",
    "        try :\n",
    "            dao.insert(join_id, join_pw, join_name)\n",
    "            return redirect('/')\n",
    "        except :\n",
    "            return render_template(\"./profile/index.html\")\n",
    "        \n",
    "        \n",
    "        \n",
    "@app.route('/check', methods=['POST'])\n",
    "def check_id() :\n",
    "    \n",
    "    if request.method == 'POST' :\n",
    "        message = ''\n",
    "        join_id = request.post(\"./profile/index.html\", data=json.dumps())\n",
    "        print(join_id)\n",
    "        dao = DAO()\n",
    "        cnt = dao.check(join_id)\n",
    "        if cnt == '0' :\n",
    "            message = '사용가능한 ID'\n",
    "        else :\n",
    "            message = '이미 존재하는 ID'\n",
    "            \n",
    "        response = json.dumps({\n",
    "            'result' : cnt,\n",
    "            'message' : message\n",
    "        })\n",
    "        return response\n",
    "    \n",
    "    \n",
    "    \n",
    "@app.route('/login', methods=['GET', 'POST'])\n",
    "def login():\n",
    "    if request.method == 'POST':\n",
    "        login_id = request.form['login_id']  # request.form['보내주는 key값']\n",
    "        login_pw = request.form['login_pw']\n",
    "    \n",
    "    dao = DAO()\n",
    "    cnt = dao.login(login_id, login_pw)\n",
    "   \n",
    "    \n",
    "    if cnt == 1 :\n",
    "        url_success = 'http://kangminju.dothome.co.kr/profile/success.html'\n",
    "        return redirect(url_success)\n",
    "    else :\n",
    "        url_fail = 'http://kangminju.dothome.co.kr/profile/fail.html'\n",
    "        return redirect(url_fail)\n",
    "\n",
    "if __name__ == '__main__' :\n",
    "#     app.run(host=host, port=port)\n",
    "    app.run(host=\"127.0.0.1\", port=5500)\n",
    "    # 변경한 코드가 적용이 안되면 port 번호를 바꿔보자/ html문서에도 변경된 코드를 적용시켜 주자"
   ]
  },
  {
   "cell_type": "markdown",
   "id": "8a8da5f3",
   "metadata": {},
   "source": [
    "- 접속하는 상대방의 홈페이지 주소가 노트북에서 우리반 wi-fi를 잡고  만들었기 때문에 우리반 wi-fi를 잡고있는 경우에만 상대방db에 접속이 가능하고,핸드폰이 LTE나 다른 wi-fi를 잡고있다면 접속이 안된다는 겁니당 반면에 핸드폰이 우리반 wi-fi를 잡고있으면 접속이 되겟죵\n",
    "- 다른 사람이 접속 가능하게 하려면 우리 IP를 외부에서도 볼 수 있게 열어 주어야 함. (이것을 '포트포워딩'이라고 함)\n",
    "\n",
    "<img src=\"./lecture_img/port_fowarding.jpg\" style=\"align:left; margin-left:10rem;width:50rem;height:auto;\">\n",
    "\n",
    "- Flask == 서버\n",
    "- 서버와 DB는 한 몸\n",
    "- 서버용 컴퓨터 25~30만원이면 구매 가능(모니터 없어도 됨)\n",
    "- 포트 포워딩 : 라즈베리파이책 챕터11\n",
    "- 포트 포워딩 : 내가 쓰고 있는 와이파이를 바로 오픈하면 안됨(외부에서 아무나 막 들어옴)\n",
    "    - 회선을 2~3개 정도 빼는 것 무료로 할 수 있음. 따로 회선을 빼서 그 ip주소로 포트포워딩ㄱㄱ"
   ]
  }
 ],
 "metadata": {
  "kernelspec": {
   "display_name": "Python 3 (ipykernel)",
   "language": "python",
   "name": "python3"
  },
  "language_info": {
   "codemirror_mode": {
    "name": "ipython",
    "version": 3
   },
   "file_extension": ".py",
   "mimetype": "text/x-python",
   "name": "python",
   "nbconvert_exporter": "python",
   "pygments_lexer": "ipython3",
   "version": "3.7.13"
  },
  "toc": {
   "base_numbering": 1,
   "nav_menu": {},
   "number_sections": false,
   "sideBar": true,
   "skip_h1_title": false,
   "title_cell": "Table of Contents",
   "title_sidebar": "Contents",
   "toc_cell": false,
   "toc_position": {},
   "toc_section_display": true,
   "toc_window_display": false
  }
 },
 "nbformat": 4,
 "nbformat_minor": 5
}
